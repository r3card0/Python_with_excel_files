{
 "cells": [
  {
   "cell_type": "markdown",
   "id": "8cd8d009",
   "metadata": {},
   "source": [
    "# Viewing and inspecting data with pandas"
   ]
  },
  {
   "cell_type": "markdown",
   "id": "1fe6e403",
   "metadata": {},
   "source": [
    "## Libraries"
   ]
  },
  {
   "cell_type": "code",
   "execution_count": 1,
   "id": "f134e50d",
   "metadata": {},
   "outputs": [],
   "source": [
    "import pandas as pd\n",
    "from openpyxl.workbook import workbook"
   ]
  },
  {
   "cell_type": "markdown",
   "id": "05ebfd2d",
   "metadata": {},
   "source": [
    "## Manipulating the data frmae is key to getting what you want out of the data\n",
    "\n",
    "#### This notebook contains:\n",
    "1. Some basic selection of data\n",
    "2. Usage of the functions: ````read_csv````,````columns````,````iloc````,````to_excel````\n",
    "3. Save a desire set of values into a new excel file"
   ]
  },
  {
   "cell_type": "markdown",
   "id": "b84a389f",
   "metadata": {},
   "source": [
    "## Problem Statement\n",
    "* Imagine you have to deal with a s spreedshet with so many columns that it was hard to fully read the data through your terminal"
   ]
  },
  {
   "cell_type": "markdown",
   "id": "0232b991",
   "metadata": {},
   "source": [
    "### 1. Read data frame"
   ]
  },
  {
   "cell_type": "markdown",
   "id": "e5a4e20f",
   "metadata": {},
   "source": [
    "### 2. How to add headers to a data frame"
   ]
  },
  {
   "cell_type": "markdown",
   "id": "35987ebb",
   "metadata": {},
   "source": [
    "### 3. How to view the values of a column"
   ]
  },
  {
   "cell_type": "markdown",
   "id": "5bb938c2",
   "metadata": {},
   "source": [
    "### 4. How to view multiple column's data"
   ]
  },
  {
   "cell_type": "markdown",
   "id": "a34d7def",
   "metadata": {},
   "source": [
    "### 5. How to use slicing to view values of the 3 first line of a single column"
   ]
  },
  {
   "cell_type": "markdown",
   "id": "9f19119d",
   "metadata": {},
   "source": [
    "### 6. How to view values from a single row"
   ]
  },
  {
   "cell_type": "markdown",
   "id": "f82eeb8b",
   "metadata": {},
   "source": [
    "### 7. How to view values from a single cell"
   ]
  },
  {
   "cell_type": "markdown",
   "id": "9f3d72e5",
   "metadata": {},
   "source": [
    "### 8. How to select values, store and save them as a new data frame in an excel file"
   ]
  },
  {
   "cell_type": "markdown",
   "id": "4d41c189",
   "metadata": {},
   "source": [
    "## References"
   ]
  }
 ],
 "metadata": {
  "kernelspec": {
   "display_name": "Python 3 (ipykernel)",
   "language": "python",
   "name": "python3"
  },
  "language_info": {
   "codemirror_mode": {
    "name": "ipython",
    "version": 3
   },
   "file_extension": ".py",
   "mimetype": "text/x-python",
   "name": "python",
   "nbconvert_exporter": "python",
   "pygments_lexer": "ipython3",
   "version": "3.10.0"
  }
 },
 "nbformat": 4,
 "nbformat_minor": 5
}
