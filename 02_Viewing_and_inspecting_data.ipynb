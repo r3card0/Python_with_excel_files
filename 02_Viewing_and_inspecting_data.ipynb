{
 "cells": [
  {
   "cell_type": "markdown",
   "metadata": {},
   "source": [
    "# Viewing and inspecting data with pandas"
   ]
  },
  {
   "cell_type": "markdown",
   "metadata": {},
   "source": [
    "## Libraries"
   ]
  },
  {
   "cell_type": "code",
   "execution_count": 1,
   "metadata": {},
   "outputs": [],
   "source": [
    "import pandas as pd\n",
    "from openpyxl.workbook import workbook"
   ]
  },
  {
   "cell_type": "markdown",
   "metadata": {},
   "source": [
    "### Manipulating the data frame is key to getting what you want out of the data\n",
    "* Some basic selection\n",
    "* viewing functions: ````read_csv````,````columns````,````iloc````,````to_excel````\n",
    "* Saving desire values to an Excel sheet\n",
    "* work woth the CSV file named names_dataset.csv"
   ]
  },
  {
   "cell_type": "markdown",
   "metadata": {},
   "source": [
    "## Problem Statement\n",
    "\n",
    "* Imagine  you had to deal with a spreedsheet with so many columns that it was hard to fully read the data through your terminal.\n",
    "\n",
    "* You need to know which columns contain what so that you can access the data you need to proceed.  In order to do this all we need to do is use the same function we used to assign the columns. \n"
   ]
  },
  {
   "cell_type": "code",
   "execution_count": 6,
   "metadata": {
    "scrolled": true
   },
   "outputs": [
    {
     "data": {
      "text/html": [
       "<div>\n",
       "<style scoped>\n",
       "    .dataframe tbody tr th:only-of-type {\n",
       "        vertical-align: middle;\n",
       "    }\n",
       "\n",
       "    .dataframe tbody tr th {\n",
       "        vertical-align: top;\n",
       "    }\n",
       "\n",
       "    .dataframe thead th {\n",
       "        text-align: right;\n",
       "    }\n",
       "</style>\n",
       "<table border=\"1\" class=\"dataframe\">\n",
       "  <thead>\n",
       "    <tr style=\"text-align: right;\">\n",
       "      <th></th>\n",
       "      <th>0</th>\n",
       "      <th>1</th>\n",
       "      <th>2</th>\n",
       "      <th>3</th>\n",
       "      <th>4</th>\n",
       "    </tr>\n",
       "  </thead>\n",
       "  <tbody>\n",
       "    <tr>\n",
       "      <th>0</th>\n",
       "      <td>Skippie</td>\n",
       "      <td>Conboy</td>\n",
       "      <td>sconboy0@pcworld.com</td>\n",
       "      <td>Male</td>\n",
       "      <td>$80626.92</td>\n",
       "    </tr>\n",
       "    <tr>\n",
       "      <th>1</th>\n",
       "      <td>Shell</td>\n",
       "      <td>Kunz</td>\n",
       "      <td>skunz1@theatlantic.com</td>\n",
       "      <td>Female</td>\n",
       "      <td>$81887.16</td>\n",
       "    </tr>\n",
       "    <tr>\n",
       "      <th>2</th>\n",
       "      <td>Mel</td>\n",
       "      <td>Jencey</td>\n",
       "      <td>mjencey2@lycos.com</td>\n",
       "      <td>Male</td>\n",
       "      <td>$16066.46</td>\n",
       "    </tr>\n",
       "    <tr>\n",
       "      <th>3</th>\n",
       "      <td>Monte</td>\n",
       "      <td>Kendrew</td>\n",
       "      <td>mkendrew3@unblog.fr</td>\n",
       "      <td>Male</td>\n",
       "      <td>$35525.57</td>\n",
       "    </tr>\n",
       "    <tr>\n",
       "      <th>4</th>\n",
       "      <td>Jacky</td>\n",
       "      <td>Grout</td>\n",
       "      <td>jgrout4@businesswire.com</td>\n",
       "      <td>Male</td>\n",
       "      <td>$62111.25</td>\n",
       "    </tr>\n",
       "    <tr>\n",
       "      <th>...</th>\n",
       "      <td>...</td>\n",
       "      <td>...</td>\n",
       "      <td>...</td>\n",
       "      <td>...</td>\n",
       "      <td>...</td>\n",
       "    </tr>\n",
       "    <tr>\n",
       "      <th>95</th>\n",
       "      <td>Gib</td>\n",
       "      <td>Daine</td>\n",
       "      <td>gdaine2n@a8.net</td>\n",
       "      <td>Male</td>\n",
       "      <td>$67297.03</td>\n",
       "    </tr>\n",
       "    <tr>\n",
       "      <th>96</th>\n",
       "      <td>Cam</td>\n",
       "      <td>Tethacot</td>\n",
       "      <td>ctethacot2o@springer.com</td>\n",
       "      <td>Female</td>\n",
       "      <td>$5077.27</td>\n",
       "    </tr>\n",
       "    <tr>\n",
       "      <th>97</th>\n",
       "      <td>Kalil</td>\n",
       "      <td>Cruikshank</td>\n",
       "      <td>kcruikshank2p@mtv.com</td>\n",
       "      <td>Male</td>\n",
       "      <td>$84463.67</td>\n",
       "    </tr>\n",
       "    <tr>\n",
       "      <th>98</th>\n",
       "      <td>Freddi</td>\n",
       "      <td>Paudin</td>\n",
       "      <td>fpaudin2q@aboutads.info</td>\n",
       "      <td>Female</td>\n",
       "      <td>$77028.00</td>\n",
       "    </tr>\n",
       "    <tr>\n",
       "      <th>99</th>\n",
       "      <td>Merci</td>\n",
       "      <td>Georgescu</td>\n",
       "      <td>mgeorgescu2r@smh.com.au</td>\n",
       "      <td>Female</td>\n",
       "      <td>$45843.61</td>\n",
       "    </tr>\n",
       "  </tbody>\n",
       "</table>\n",
       "<p>100 rows × 5 columns</p>\n",
       "</div>"
      ],
      "text/plain": [
       "          0           1                         2       3          4\n",
       "0   Skippie      Conboy      sconboy0@pcworld.com    Male  $80626.92\n",
       "1     Shell        Kunz    skunz1@theatlantic.com  Female  $81887.16\n",
       "2       Mel      Jencey        mjencey2@lycos.com    Male  $16066.46\n",
       "3     Monte     Kendrew       mkendrew3@unblog.fr    Male  $35525.57\n",
       "4     Jacky       Grout  jgrout4@businesswire.com    Male  $62111.25\n",
       "..      ...         ...                       ...     ...        ...\n",
       "95      Gib       Daine           gdaine2n@a8.net    Male  $67297.03\n",
       "96      Cam    Tethacot  ctethacot2o@springer.com  Female   $5077.27\n",
       "97    Kalil  Cruikshank     kcruikshank2p@mtv.com    Male  $84463.67\n",
       "98   Freddi      Paudin   fpaudin2q@aboutads.info  Female  $77028.00\n",
       "99    Merci   Georgescu   mgeorgescu2r@smh.com.au  Female  $45843.61\n",
       "\n",
       "[100 rows x 5 columns]"
      ]
     },
     "execution_count": 6,
     "metadata": {},
     "output_type": "execute_result"
    }
   ],
   "source": [
    "df_csv = pd.read_csv('files/names_dataset.csv', header=None)\n",
    "df_csv"
   ]
  },
  {
   "cell_type": "markdown",
   "metadata": {},
   "source": [
    "### 1. How to add headers to a data frame"
   ]
  },
  {
   "cell_type": "markdown",
   "metadata": {},
   "source": [
    "* As you can see, there're not columns defined in data frame\n",
    "* Using command ````columns````, you can add column's names to data frame"
   ]
  },
  {
   "cell_type": "code",
   "execution_count": 7,
   "metadata": {
    "scrolled": true
   },
   "outputs": [
    {
     "data": {
      "text/html": [
       "<div>\n",
       "<style scoped>\n",
       "    .dataframe tbody tr th:only-of-type {\n",
       "        vertical-align: middle;\n",
       "    }\n",
       "\n",
       "    .dataframe tbody tr th {\n",
       "        vertical-align: top;\n",
       "    }\n",
       "\n",
       "    .dataframe thead th {\n",
       "        text-align: right;\n",
       "    }\n",
       "</style>\n",
       "<table border=\"1\" class=\"dataframe\">\n",
       "  <thead>\n",
       "    <tr style=\"text-align: right;\">\n",
       "      <th></th>\n",
       "      <th>first_name</th>\n",
       "      <th>last_name</th>\n",
       "      <th>email</th>\n",
       "      <th>gender</th>\n",
       "      <th>Income</th>\n",
       "    </tr>\n",
       "  </thead>\n",
       "  <tbody>\n",
       "    <tr>\n",
       "      <th>0</th>\n",
       "      <td>Skippie</td>\n",
       "      <td>Conboy</td>\n",
       "      <td>sconboy0@pcworld.com</td>\n",
       "      <td>Male</td>\n",
       "      <td>$80626.92</td>\n",
       "    </tr>\n",
       "    <tr>\n",
       "      <th>1</th>\n",
       "      <td>Shell</td>\n",
       "      <td>Kunz</td>\n",
       "      <td>skunz1@theatlantic.com</td>\n",
       "      <td>Female</td>\n",
       "      <td>$81887.16</td>\n",
       "    </tr>\n",
       "    <tr>\n",
       "      <th>2</th>\n",
       "      <td>Mel</td>\n",
       "      <td>Jencey</td>\n",
       "      <td>mjencey2@lycos.com</td>\n",
       "      <td>Male</td>\n",
       "      <td>$16066.46</td>\n",
       "    </tr>\n",
       "    <tr>\n",
       "      <th>3</th>\n",
       "      <td>Monte</td>\n",
       "      <td>Kendrew</td>\n",
       "      <td>mkendrew3@unblog.fr</td>\n",
       "      <td>Male</td>\n",
       "      <td>$35525.57</td>\n",
       "    </tr>\n",
       "    <tr>\n",
       "      <th>4</th>\n",
       "      <td>Jacky</td>\n",
       "      <td>Grout</td>\n",
       "      <td>jgrout4@businesswire.com</td>\n",
       "      <td>Male</td>\n",
       "      <td>$62111.25</td>\n",
       "    </tr>\n",
       "    <tr>\n",
       "      <th>...</th>\n",
       "      <td>...</td>\n",
       "      <td>...</td>\n",
       "      <td>...</td>\n",
       "      <td>...</td>\n",
       "      <td>...</td>\n",
       "    </tr>\n",
       "    <tr>\n",
       "      <th>95</th>\n",
       "      <td>Gib</td>\n",
       "      <td>Daine</td>\n",
       "      <td>gdaine2n@a8.net</td>\n",
       "      <td>Male</td>\n",
       "      <td>$67297.03</td>\n",
       "    </tr>\n",
       "    <tr>\n",
       "      <th>96</th>\n",
       "      <td>Cam</td>\n",
       "      <td>Tethacot</td>\n",
       "      <td>ctethacot2o@springer.com</td>\n",
       "      <td>Female</td>\n",
       "      <td>$5077.27</td>\n",
       "    </tr>\n",
       "    <tr>\n",
       "      <th>97</th>\n",
       "      <td>Kalil</td>\n",
       "      <td>Cruikshank</td>\n",
       "      <td>kcruikshank2p@mtv.com</td>\n",
       "      <td>Male</td>\n",
       "      <td>$84463.67</td>\n",
       "    </tr>\n",
       "    <tr>\n",
       "      <th>98</th>\n",
       "      <td>Freddi</td>\n",
       "      <td>Paudin</td>\n",
       "      <td>fpaudin2q@aboutads.info</td>\n",
       "      <td>Female</td>\n",
       "      <td>$77028.00</td>\n",
       "    </tr>\n",
       "    <tr>\n",
       "      <th>99</th>\n",
       "      <td>Merci</td>\n",
       "      <td>Georgescu</td>\n",
       "      <td>mgeorgescu2r@smh.com.au</td>\n",
       "      <td>Female</td>\n",
       "      <td>$45843.61</td>\n",
       "    </tr>\n",
       "  </tbody>\n",
       "</table>\n",
       "<p>100 rows × 5 columns</p>\n",
       "</div>"
      ],
      "text/plain": [
       "   first_name   last_name                     email  gender     Income\n",
       "0     Skippie      Conboy      sconboy0@pcworld.com    Male  $80626.92\n",
       "1       Shell        Kunz    skunz1@theatlantic.com  Female  $81887.16\n",
       "2         Mel      Jencey        mjencey2@lycos.com    Male  $16066.46\n",
       "3       Monte     Kendrew       mkendrew3@unblog.fr    Male  $35525.57\n",
       "4       Jacky       Grout  jgrout4@businesswire.com    Male  $62111.25\n",
       "..        ...         ...                       ...     ...        ...\n",
       "95        Gib       Daine           gdaine2n@a8.net    Male  $67297.03\n",
       "96        Cam    Tethacot  ctethacot2o@springer.com  Female   $5077.27\n",
       "97      Kalil  Cruikshank     kcruikshank2p@mtv.com    Male  $84463.67\n",
       "98     Freddi      Paudin   fpaudin2q@aboutads.info  Female  $77028.00\n",
       "99      Merci   Georgescu   mgeorgescu2r@smh.com.au  Female  $45843.61\n",
       "\n",
       "[100 rows x 5 columns]"
      ]
     },
     "execution_count": 7,
     "metadata": {},
     "output_type": "execute_result"
    }
   ],
   "source": [
    "df_csv.columns = ['first_name','last_name', 'email','gender','Income']\n",
    "df_csv"
   ]
  },
  {
   "cell_type": "markdown",
   "metadata": {},
   "source": [
    "* You must length match to avoid errors: ````ValueError: Length mismatch: Expected axis has 7 elements, new values have 6 elements````"
   ]
  },
  {
   "cell_type": "markdown",
   "metadata": {},
   "source": [
    "### 2. How to view the values of a column"
   ]
  },
  {
   "cell_type": "markdown",
   "metadata": {},
   "source": [
    "* Now, let's say you want to view just one column\n",
    "* You can index by column name, in this case you want to view the data of the State column"
   ]
  },
  {
   "cell_type": "code",
   "execution_count": 8,
   "metadata": {},
   "outputs": [
    {
     "data": {
      "text/plain": [
       "0         sconboy0@pcworld.com\n",
       "1       skunz1@theatlantic.com\n",
       "2           mjencey2@lycos.com\n",
       "3          mkendrew3@unblog.fr\n",
       "4     jgrout4@businesswire.com\n",
       "                ...           \n",
       "95             gdaine2n@a8.net\n",
       "96    ctethacot2o@springer.com\n",
       "97       kcruikshank2p@mtv.com\n",
       "98     fpaudin2q@aboutads.info\n",
       "99     mgeorgescu2r@smh.com.au\n",
       "Name: email, Length: 100, dtype: object"
      ]
     },
     "execution_count": 8,
     "metadata": {},
     "output_type": "execute_result"
    }
   ],
   "source": [
    "# example using single []\n",
    "df_csv['email']"
   ]
  },
  {
   "cell_type": "code",
   "execution_count": 9,
   "metadata": {},
   "outputs": [
    {
     "data": {
      "text/html": [
       "<div>\n",
       "<style scoped>\n",
       "    .dataframe tbody tr th:only-of-type {\n",
       "        vertical-align: middle;\n",
       "    }\n",
       "\n",
       "    .dataframe tbody tr th {\n",
       "        vertical-align: top;\n",
       "    }\n",
       "\n",
       "    .dataframe thead th {\n",
       "        text-align: right;\n",
       "    }\n",
       "</style>\n",
       "<table border=\"1\" class=\"dataframe\">\n",
       "  <thead>\n",
       "    <tr style=\"text-align: right;\">\n",
       "      <th></th>\n",
       "      <th>email</th>\n",
       "    </tr>\n",
       "  </thead>\n",
       "  <tbody>\n",
       "    <tr>\n",
       "      <th>0</th>\n",
       "      <td>sconboy0@pcworld.com</td>\n",
       "    </tr>\n",
       "    <tr>\n",
       "      <th>1</th>\n",
       "      <td>skunz1@theatlantic.com</td>\n",
       "    </tr>\n",
       "    <tr>\n",
       "      <th>2</th>\n",
       "      <td>mjencey2@lycos.com</td>\n",
       "    </tr>\n",
       "    <tr>\n",
       "      <th>3</th>\n",
       "      <td>mkendrew3@unblog.fr</td>\n",
       "    </tr>\n",
       "    <tr>\n",
       "      <th>4</th>\n",
       "      <td>jgrout4@businesswire.com</td>\n",
       "    </tr>\n",
       "    <tr>\n",
       "      <th>...</th>\n",
       "      <td>...</td>\n",
       "    </tr>\n",
       "    <tr>\n",
       "      <th>95</th>\n",
       "      <td>gdaine2n@a8.net</td>\n",
       "    </tr>\n",
       "    <tr>\n",
       "      <th>96</th>\n",
       "      <td>ctethacot2o@springer.com</td>\n",
       "    </tr>\n",
       "    <tr>\n",
       "      <th>97</th>\n",
       "      <td>kcruikshank2p@mtv.com</td>\n",
       "    </tr>\n",
       "    <tr>\n",
       "      <th>98</th>\n",
       "      <td>fpaudin2q@aboutads.info</td>\n",
       "    </tr>\n",
       "    <tr>\n",
       "      <th>99</th>\n",
       "      <td>mgeorgescu2r@smh.com.au</td>\n",
       "    </tr>\n",
       "  </tbody>\n",
       "</table>\n",
       "<p>100 rows × 1 columns</p>\n",
       "</div>"
      ],
      "text/plain": [
       "                       email\n",
       "0       sconboy0@pcworld.com\n",
       "1     skunz1@theatlantic.com\n",
       "2         mjencey2@lycos.com\n",
       "3        mkendrew3@unblog.fr\n",
       "4   jgrout4@businesswire.com\n",
       "..                       ...\n",
       "95           gdaine2n@a8.net\n",
       "96  ctethacot2o@springer.com\n",
       "97     kcruikshank2p@mtv.com\n",
       "98   fpaudin2q@aboutads.info\n",
       "99   mgeorgescu2r@smh.com.au\n",
       "\n",
       "[100 rows x 1 columns]"
      ]
     },
     "execution_count": 9,
     "metadata": {},
     "output_type": "execute_result"
    }
   ],
   "source": [
    "#Example using double []\n",
    "df_csv[['email']]"
   ]
  },
  {
   "cell_type": "markdown",
   "metadata": {},
   "source": [
    "* You can view the values and their indices"
   ]
  },
  {
   "cell_type": "markdown",
   "metadata": {},
   "source": [
    "### 3. How to view multiple column's data"
   ]
  },
  {
   "cell_type": "markdown",
   "metadata": {},
   "source": [
    "* If you want to access multiple column's data you just pass it in as a list\n",
    "* Se usan los doble ````[[]]````,```` [['email,'gender']]```` para representar el index del data frame como una lista de columnas"
   ]
  },
  {
   "cell_type": "code",
   "execution_count": 10,
   "metadata": {
    "scrolled": true
   },
   "outputs": [
    {
     "data": {
      "text/html": [
       "<div>\n",
       "<style scoped>\n",
       "    .dataframe tbody tr th:only-of-type {\n",
       "        vertical-align: middle;\n",
       "    }\n",
       "\n",
       "    .dataframe tbody tr th {\n",
       "        vertical-align: top;\n",
       "    }\n",
       "\n",
       "    .dataframe thead th {\n",
       "        text-align: right;\n",
       "    }\n",
       "</style>\n",
       "<table border=\"1\" class=\"dataframe\">\n",
       "  <thead>\n",
       "    <tr style=\"text-align: right;\">\n",
       "      <th></th>\n",
       "      <th>email</th>\n",
       "      <th>gender</th>\n",
       "    </tr>\n",
       "  </thead>\n",
       "  <tbody>\n",
       "    <tr>\n",
       "      <th>0</th>\n",
       "      <td>sconboy0@pcworld.com</td>\n",
       "      <td>Male</td>\n",
       "    </tr>\n",
       "    <tr>\n",
       "      <th>1</th>\n",
       "      <td>skunz1@theatlantic.com</td>\n",
       "      <td>Female</td>\n",
       "    </tr>\n",
       "    <tr>\n",
       "      <th>2</th>\n",
       "      <td>mjencey2@lycos.com</td>\n",
       "      <td>Male</td>\n",
       "    </tr>\n",
       "    <tr>\n",
       "      <th>3</th>\n",
       "      <td>mkendrew3@unblog.fr</td>\n",
       "      <td>Male</td>\n",
       "    </tr>\n",
       "    <tr>\n",
       "      <th>4</th>\n",
       "      <td>jgrout4@businesswire.com</td>\n",
       "      <td>Male</td>\n",
       "    </tr>\n",
       "    <tr>\n",
       "      <th>...</th>\n",
       "      <td>...</td>\n",
       "      <td>...</td>\n",
       "    </tr>\n",
       "    <tr>\n",
       "      <th>95</th>\n",
       "      <td>gdaine2n@a8.net</td>\n",
       "      <td>Male</td>\n",
       "    </tr>\n",
       "    <tr>\n",
       "      <th>96</th>\n",
       "      <td>ctethacot2o@springer.com</td>\n",
       "      <td>Female</td>\n",
       "    </tr>\n",
       "    <tr>\n",
       "      <th>97</th>\n",
       "      <td>kcruikshank2p@mtv.com</td>\n",
       "      <td>Male</td>\n",
       "    </tr>\n",
       "    <tr>\n",
       "      <th>98</th>\n",
       "      <td>fpaudin2q@aboutads.info</td>\n",
       "      <td>Female</td>\n",
       "    </tr>\n",
       "    <tr>\n",
       "      <th>99</th>\n",
       "      <td>mgeorgescu2r@smh.com.au</td>\n",
       "      <td>Female</td>\n",
       "    </tr>\n",
       "  </tbody>\n",
       "</table>\n",
       "<p>100 rows × 2 columns</p>\n",
       "</div>"
      ],
      "text/plain": [
       "                       email  gender\n",
       "0       sconboy0@pcworld.com    Male\n",
       "1     skunz1@theatlantic.com  Female\n",
       "2         mjencey2@lycos.com    Male\n",
       "3        mkendrew3@unblog.fr    Male\n",
       "4   jgrout4@businesswire.com    Male\n",
       "..                       ...     ...\n",
       "95           gdaine2n@a8.net    Male\n",
       "96  ctethacot2o@springer.com  Female\n",
       "97     kcruikshank2p@mtv.com    Male\n",
       "98   fpaudin2q@aboutads.info  Female\n",
       "99   mgeorgescu2r@smh.com.au  Female\n",
       "\n",
       "[100 rows x 2 columns]"
      ]
     },
     "execution_count": 10,
     "metadata": {},
     "output_type": "execute_result"
    }
   ],
   "source": [
    "df_csv[['email','gender']]"
   ]
  },
  {
   "cell_type": "markdown",
   "metadata": {},
   "source": [
    "### 4. How to use slicing to view values of the 3 first lines of a single column"
   ]
  },
  {
   "cell_type": "markdown",
   "metadata": {},
   "source": [
    "* Now if we had a large set of data and we can view only certain value we can achieve this by slicing\n",
    "* By slicing you can choice the column number and the row number as a coordinate system to view value\n",
    "* In this case we want to view the value of the row 3\n",
    "* In this case we want to view the 3 first lines of the column ````First````, it is indexed from 0 to 2"
   ]
  },
  {
   "cell_type": "code",
   "execution_count": 11,
   "metadata": {
    "scrolled": true
   },
   "outputs": [
    {
     "name": "stdout",
     "output_type": "stream",
     "text": [
      "0    Skippie\n",
      "1      Shell\n",
      "2        Mel\n",
      "Name: first_name, dtype: object\n"
     ]
    }
   ],
   "source": [
    "print(df_csv['first_name'][0:3])"
   ]
  },
  {
   "cell_type": "markdown",
   "metadata": {},
   "source": [
    "### 5. How to view values from a single row\n",
    "* Use the Integer Location function -> iloc()\n",
    "* By slicing you can choice the row number you can access\n",
    "* In this case you can access to value of row number 4\n",
    "* the correct syntax is: ````dataframe.iloc[4]````, data frame  + iloc function + number of index into the ````[]````"
   ]
  },
  {
   "cell_type": "code",
   "execution_count": 12,
   "metadata": {
    "scrolled": true
   },
   "outputs": [
    {
     "data": {
      "text/plain": [
       "first_name                       Jacky\n",
       "last_name                        Grout\n",
       "email         jgrout4@businesswire.com\n",
       "gender                            Male\n",
       "Income                       $62111.25\n",
       "Name: 4, dtype: object"
      ]
     },
     "execution_count": 12,
     "metadata": {},
     "output_type": "execute_result"
    }
   ],
   "source": [
    "# single []\n",
    "df_csv.iloc[4]"
   ]
  },
  {
   "cell_type": "code",
   "execution_count": 13,
   "metadata": {},
   "outputs": [
    {
     "data": {
      "text/html": [
       "<div>\n",
       "<style scoped>\n",
       "    .dataframe tbody tr th:only-of-type {\n",
       "        vertical-align: middle;\n",
       "    }\n",
       "\n",
       "    .dataframe tbody tr th {\n",
       "        vertical-align: top;\n",
       "    }\n",
       "\n",
       "    .dataframe thead th {\n",
       "        text-align: right;\n",
       "    }\n",
       "</style>\n",
       "<table border=\"1\" class=\"dataframe\">\n",
       "  <thead>\n",
       "    <tr style=\"text-align: right;\">\n",
       "      <th></th>\n",
       "      <th>first_name</th>\n",
       "      <th>last_name</th>\n",
       "      <th>email</th>\n",
       "      <th>gender</th>\n",
       "      <th>Income</th>\n",
       "    </tr>\n",
       "  </thead>\n",
       "  <tbody>\n",
       "    <tr>\n",
       "      <th>4</th>\n",
       "      <td>Jacky</td>\n",
       "      <td>Grout</td>\n",
       "      <td>jgrout4@businesswire.com</td>\n",
       "      <td>Male</td>\n",
       "      <td>$62111.25</td>\n",
       "    </tr>\n",
       "  </tbody>\n",
       "</table>\n",
       "</div>"
      ],
      "text/plain": [
       "  first_name last_name                     email gender     Income\n",
       "4      Jacky     Grout  jgrout4@businesswire.com   Male  $62111.25"
      ]
     },
     "execution_count": 13,
     "metadata": {},
     "output_type": "execute_result"
    }
   ],
   "source": [
    "# double []\n",
    "df_csv.iloc[[4]]"
   ]
  },
  {
   "cell_type": "code",
   "execution_count": 14,
   "metadata": {},
   "outputs": [],
   "source": [
    "#df_csv.iloc[df_csv.index]\n",
    "#df_csv.index"
   ]
  },
  {
   "cell_type": "code",
   "execution_count": 15,
   "metadata": {},
   "outputs": [
    {
     "name": "stdout",
     "output_type": "stream",
     "text": [
      "first_name                       Jacky\n",
      "last_name                        Grout\n",
      "email         jgrout4@businesswire.com\n",
      "gender                            Male\n",
      "Income                       $62111.25\n",
      "Name: 4, dtype: object\n"
     ]
    }
   ],
   "source": [
    "print(df_csv.iloc[4])"
   ]
  },
  {
   "cell_type": "markdown",
   "metadata": {},
   "source": [
    "### 6. How to view values from a single cell\n",
    "* By slicing chose the row number and column number\n",
    "* Remember to start by 0\n",
    "* You can access for the value on row 97, column 1\n",
    "* From data frame chose the value \"Cruikshank\""
   ]
  },
  {
   "cell_type": "code",
   "execution_count": 17,
   "metadata": {
    "scrolled": false
   },
   "outputs": [
    {
     "data": {
      "text/html": [
       "<div>\n",
       "<style scoped>\n",
       "    .dataframe tbody tr th:only-of-type {\n",
       "        vertical-align: middle;\n",
       "    }\n",
       "\n",
       "    .dataframe tbody tr th {\n",
       "        vertical-align: top;\n",
       "    }\n",
       "\n",
       "    .dataframe thead th {\n",
       "        text-align: right;\n",
       "    }\n",
       "</style>\n",
       "<table border=\"1\" class=\"dataframe\">\n",
       "  <thead>\n",
       "    <tr style=\"text-align: right;\">\n",
       "      <th></th>\n",
       "      <th>first_name</th>\n",
       "      <th>last_name</th>\n",
       "      <th>email</th>\n",
       "      <th>gender</th>\n",
       "      <th>Income</th>\n",
       "    </tr>\n",
       "  </thead>\n",
       "  <tbody>\n",
       "    <tr>\n",
       "      <th>90</th>\n",
       "      <td>Sherline</td>\n",
       "      <td>Wittman</td>\n",
       "      <td>swittman2i@51.la</td>\n",
       "      <td>Female</td>\n",
       "      <td>$59602.62</td>\n",
       "    </tr>\n",
       "    <tr>\n",
       "      <th>91</th>\n",
       "      <td>Joceline</td>\n",
       "      <td>Strotone</td>\n",
       "      <td>jstrotone2j@tinyurl.com</td>\n",
       "      <td>Female</td>\n",
       "      <td>$63364.45</td>\n",
       "    </tr>\n",
       "    <tr>\n",
       "      <th>92</th>\n",
       "      <td>Winonah</td>\n",
       "      <td>Fulbrook</td>\n",
       "      <td>wfulbrook2k@accuweather.com</td>\n",
       "      <td>Female</td>\n",
       "      <td>$17882.15</td>\n",
       "    </tr>\n",
       "    <tr>\n",
       "      <th>93</th>\n",
       "      <td>Eleanor</td>\n",
       "      <td>Bremen</td>\n",
       "      <td>ebremen2l@amazon.de</td>\n",
       "      <td>Female</td>\n",
       "      <td>$41609.06</td>\n",
       "    </tr>\n",
       "    <tr>\n",
       "      <th>94</th>\n",
       "      <td>Tuckie</td>\n",
       "      <td>Urch</td>\n",
       "      <td>turch2m@163.com</td>\n",
       "      <td>Male</td>\n",
       "      <td>$26008.44</td>\n",
       "    </tr>\n",
       "    <tr>\n",
       "      <th>95</th>\n",
       "      <td>Gib</td>\n",
       "      <td>Daine</td>\n",
       "      <td>gdaine2n@a8.net</td>\n",
       "      <td>Male</td>\n",
       "      <td>$67297.03</td>\n",
       "    </tr>\n",
       "    <tr>\n",
       "      <th>96</th>\n",
       "      <td>Cam</td>\n",
       "      <td>Tethacot</td>\n",
       "      <td>ctethacot2o@springer.com</td>\n",
       "      <td>Female</td>\n",
       "      <td>$5077.27</td>\n",
       "    </tr>\n",
       "    <tr>\n",
       "      <th>97</th>\n",
       "      <td>Kalil</td>\n",
       "      <td>Cruikshank</td>\n",
       "      <td>kcruikshank2p@mtv.com</td>\n",
       "      <td>Male</td>\n",
       "      <td>$84463.67</td>\n",
       "    </tr>\n",
       "    <tr>\n",
       "      <th>98</th>\n",
       "      <td>Freddi</td>\n",
       "      <td>Paudin</td>\n",
       "      <td>fpaudin2q@aboutads.info</td>\n",
       "      <td>Female</td>\n",
       "      <td>$77028.00</td>\n",
       "    </tr>\n",
       "    <tr>\n",
       "      <th>99</th>\n",
       "      <td>Merci</td>\n",
       "      <td>Georgescu</td>\n",
       "      <td>mgeorgescu2r@smh.com.au</td>\n",
       "      <td>Female</td>\n",
       "      <td>$45843.61</td>\n",
       "    </tr>\n",
       "  </tbody>\n",
       "</table>\n",
       "</div>"
      ],
      "text/plain": [
       "   first_name   last_name                        email  gender     Income\n",
       "90   Sherline     Wittman             swittman2i@51.la  Female  $59602.62\n",
       "91   Joceline    Strotone      jstrotone2j@tinyurl.com  Female  $63364.45\n",
       "92    Winonah    Fulbrook  wfulbrook2k@accuweather.com  Female  $17882.15\n",
       "93    Eleanor      Bremen          ebremen2l@amazon.de  Female  $41609.06\n",
       "94     Tuckie        Urch              turch2m@163.com    Male  $26008.44\n",
       "95        Gib       Daine              gdaine2n@a8.net    Male  $67297.03\n",
       "96        Cam    Tethacot     ctethacot2o@springer.com  Female   $5077.27\n",
       "97      Kalil  Cruikshank        kcruikshank2p@mtv.com    Male  $84463.67\n",
       "98     Freddi      Paudin      fpaudin2q@aboutads.info  Female  $77028.00\n",
       "99      Merci   Georgescu      mgeorgescu2r@smh.com.au  Female  $45843.61"
      ]
     },
     "execution_count": 17,
     "metadata": {},
     "output_type": "execute_result"
    }
   ],
   "source": [
    "df_csv.tail(10)"
   ]
  },
  {
   "cell_type": "markdown",
   "metadata": {},
   "source": [
    "* Value \"Cruikshank\" is located on column 2 and row 97\n",
    "* Use slicing combined with iloc()function"
   ]
  },
  {
   "cell_type": "code",
   "execution_count": 32,
   "metadata": {},
   "outputs": [],
   "source": [
    "#df_csv.iloc[df_csv.index].isnull() #to view what cell has null values"
   ]
  },
  {
   "cell_type": "code",
   "execution_count": 16,
   "metadata": {},
   "outputs": [
    {
     "name": "stdout",
     "output_type": "stream",
     "text": [
      "Cruikshank\n"
     ]
    }
   ],
   "source": [
    "print(df_csv.iloc[97,1])"
   ]
  },
  {
   "cell_type": "markdown",
   "metadata": {},
   "source": [
    "### 7. How to select values, store and save them as a new data frame in an Excel file\n",
    "\n",
    "* Imagine you can select a set of values from te data frame, for example the values of the columns: *first_name*,*last_name* and *email*\n",
    "* You can store the values in a new excel file"
   ]
  },
  {
   "cell_type": "code",
   "execution_count": 18,
   "metadata": {},
   "outputs": [
    {
     "data": {
      "text/html": [
       "<div>\n",
       "<style scoped>\n",
       "    .dataframe tbody tr th:only-of-type {\n",
       "        vertical-align: middle;\n",
       "    }\n",
       "\n",
       "    .dataframe tbody tr th {\n",
       "        vertical-align: top;\n",
       "    }\n",
       "\n",
       "    .dataframe thead th {\n",
       "        text-align: right;\n",
       "    }\n",
       "</style>\n",
       "<table border=\"1\" class=\"dataframe\">\n",
       "  <thead>\n",
       "    <tr style=\"text-align: right;\">\n",
       "      <th></th>\n",
       "      <th>first_name</th>\n",
       "      <th>last_name</th>\n",
       "      <th>email</th>\n",
       "    </tr>\n",
       "  </thead>\n",
       "  <tbody>\n",
       "    <tr>\n",
       "      <th>0</th>\n",
       "      <td>Skippie</td>\n",
       "      <td>Conboy</td>\n",
       "      <td>sconboy0@pcworld.com</td>\n",
       "    </tr>\n",
       "    <tr>\n",
       "      <th>1</th>\n",
       "      <td>Shell</td>\n",
       "      <td>Kunz</td>\n",
       "      <td>skunz1@theatlantic.com</td>\n",
       "    </tr>\n",
       "    <tr>\n",
       "      <th>2</th>\n",
       "      <td>Mel</td>\n",
       "      <td>Jencey</td>\n",
       "      <td>mjencey2@lycos.com</td>\n",
       "    </tr>\n",
       "    <tr>\n",
       "      <th>3</th>\n",
       "      <td>Monte</td>\n",
       "      <td>Kendrew</td>\n",
       "      <td>mkendrew3@unblog.fr</td>\n",
       "    </tr>\n",
       "    <tr>\n",
       "      <th>4</th>\n",
       "      <td>Jacky</td>\n",
       "      <td>Grout</td>\n",
       "      <td>jgrout4@businesswire.com</td>\n",
       "    </tr>\n",
       "    <tr>\n",
       "      <th>...</th>\n",
       "      <td>...</td>\n",
       "      <td>...</td>\n",
       "      <td>...</td>\n",
       "    </tr>\n",
       "    <tr>\n",
       "      <th>95</th>\n",
       "      <td>Gib</td>\n",
       "      <td>Daine</td>\n",
       "      <td>gdaine2n@a8.net</td>\n",
       "    </tr>\n",
       "    <tr>\n",
       "      <th>96</th>\n",
       "      <td>Cam</td>\n",
       "      <td>Tethacot</td>\n",
       "      <td>ctethacot2o@springer.com</td>\n",
       "    </tr>\n",
       "    <tr>\n",
       "      <th>97</th>\n",
       "      <td>Kalil</td>\n",
       "      <td>Cruikshank</td>\n",
       "      <td>kcruikshank2p@mtv.com</td>\n",
       "    </tr>\n",
       "    <tr>\n",
       "      <th>98</th>\n",
       "      <td>Freddi</td>\n",
       "      <td>Paudin</td>\n",
       "      <td>fpaudin2q@aboutads.info</td>\n",
       "    </tr>\n",
       "    <tr>\n",
       "      <th>99</th>\n",
       "      <td>Merci</td>\n",
       "      <td>Georgescu</td>\n",
       "      <td>mgeorgescu2r@smh.com.au</td>\n",
       "    </tr>\n",
       "  </tbody>\n",
       "</table>\n",
       "<p>100 rows × 3 columns</p>\n",
       "</div>"
      ],
      "text/plain": [
       "   first_name   last_name                     email\n",
       "0     Skippie      Conboy      sconboy0@pcworld.com\n",
       "1       Shell        Kunz    skunz1@theatlantic.com\n",
       "2         Mel      Jencey        mjencey2@lycos.com\n",
       "3       Monte     Kendrew       mkendrew3@unblog.fr\n",
       "4       Jacky       Grout  jgrout4@businesswire.com\n",
       "..        ...         ...                       ...\n",
       "95        Gib       Daine           gdaine2n@a8.net\n",
       "96        Cam    Tethacot  ctethacot2o@springer.com\n",
       "97      Kalil  Cruikshank     kcruikshank2p@mtv.com\n",
       "98     Freddi      Paudin   fpaudin2q@aboutads.info\n",
       "99      Merci   Georgescu   mgeorgescu2r@smh.com.au\n",
       "\n",
       "[100 rows x 3 columns]"
      ]
     },
     "execution_count": 18,
     "metadata": {},
     "output_type": "execute_result"
    }
   ],
   "source": [
    "# 1. Select the wanted values\n",
    "df_csv[['first_name','last_name','email']]"
   ]
  },
  {
   "cell_type": "code",
   "execution_count": 19,
   "metadata": {},
   "outputs": [],
   "source": [
    "# 2. Store the wanted value sin a variable\n",
    "wanted_values = df_csv[['first_name','last_name','email']]"
   ]
  },
  {
   "cell_type": "code",
   "execution_count": 20,
   "metadata": {},
   "outputs": [],
   "source": [
    "# 3. Save the wanted values in an excel file\n",
    "stored = wanted_values.to_excel('files/Data_location.xlsx', index=None)"
   ]
  },
  {
   "cell_type": "markdown",
   "metadata": {},
   "source": [
    "## Reference\n",
    "[Vieweing and inspecting data](https://www.linkedin.com/learning/using-python-with-excel/viewing-and-inspecting-data-with-pandas?autoplay=true&resume=false&u=2134922)"
   ]
  }
 ],
 "metadata": {
  "kernelspec": {
   "display_name": "Python 3 (ipykernel)",
   "language": "python",
   "name": "python3"
  },
  "language_info": {
   "codemirror_mode": {
    "name": "ipython",
    "version": 3
   },
   "file_extension": ".py",
   "mimetype": "text/x-python",
   "name": "python",
   "nbconvert_exporter": "python",
   "pygments_lexer": "ipython3",
   "version": "3.10.0"
  }
 },
 "nbformat": 4,
 "nbformat_minor": 4
}
